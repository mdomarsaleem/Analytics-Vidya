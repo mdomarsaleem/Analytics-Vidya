import cv2
import sys
import numpy as np
#import time
import scipy.misc
import os
#from datetime import datetime
os.chdir("C:/Users/Omar Saleem Mohammed/Image_db/")
import uuid
#print uuid.uuid4()

face_cascade = cv2.CascadeClassifier('C:/Users/Omar Saleem Mohammed/Downloads/DoNotBackup/opencv/sources/data/haarcascades/haarcascade_frontalface_default.xml')
video_capture = cv2.VideoCapture(0)

while True:
    # Capture frame-by-frame
    time.sleep(1)
    ret, frame = video_capture.read()

    gray = cv2.cvtColor(frame, cv2.COLOR_BGR2GRAY)

    faces = face_cascade.detectMultiScale(
        gray,
        scaleFactor=1.1,
        minNeighbors=5,
        minSize=(30, 30),
 #       flags=cv2.cv.CV_HAAR_SCALE_IMAGE
    )

    # Draw a rectangle around the faces
    if len(faces)>0:    
        for (x, y, w, h) in faces:
#            cv2.rectangle(frame, (x, y), (x+w, y+h), (0, 255, 0), 2)
            fac = np.array(frame)[y:(y+h),x:(x+h),:]
            scipy.misc.toimage(fac).save(str(uuid.uuid4()) +'.jpg')

    # Display the resulting frame
        cv2.imshow('Video', frame)
        fac = np.array(frame)[y:(y+h),x:(x+h)]
    if cv2.waitKey(1) & 0xFF == ord('q'):
            break
        


# When everything is done, release the capture
video_capture.release()
cv2.destroyAllWindows()
